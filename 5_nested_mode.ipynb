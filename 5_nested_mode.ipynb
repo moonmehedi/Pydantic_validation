{
 "cells": [
  {
   "cell_type": "code",
   "execution_count": 2,
   "id": "90343fb0",
   "metadata": {},
   "outputs": [
    {
     "data": {
      "text/plain": [
       "Patient(name='nitish', gender='male', age=35, address=Address(city='dhaka', state='dhaka', pin='12002'))"
      ]
     },
     "execution_count": 2,
     "metadata": {},
     "output_type": "execute_result"
    }
   ],
   "source": [
    "from pydantic import BaseModel\n",
    "\n",
    "\n",
    "\n",
    "#nested mode\n",
    "\n",
    "class Address(BaseModel):\n",
    "    city:str\n",
    "    state:str\n",
    "    pin:str\n",
    "\n",
    "\n",
    "\n",
    "class Patient(BaseModel):\n",
    "\n",
    "    name:str\n",
    "    gender:str\n",
    "    age:int\n",
    "    address:Address #nested model\n",
    "\n",
    "\n",
    "address_dict = {'city':'dhaka','state':'dhaka','pin':'12002'}\n",
    "\n",
    "address1 = Address(**address_dict)\n",
    "\n",
    "patient_dict = {'name':'nitish','gender':'male','age':35,'address':address1}\n",
    "\n",
    "patient1 = Patient(**patient_dict)\n",
    "\n",
    "patient1"
   ]
  }
 ],
 "metadata": {
  "kernelspec": {
   "display_name": "venv",
   "language": "python",
   "name": "python3"
  },
  "language_info": {
   "codemirror_mode": {
    "name": "ipython",
    "version": 3
   },
   "file_extension": ".py",
   "mimetype": "text/x-python",
   "name": "python",
   "nbconvert_exporter": "python",
   "pygments_lexer": "ipython3",
   "version": "3.12.3"
  }
 },
 "nbformat": 4,
 "nbformat_minor": 5
}
