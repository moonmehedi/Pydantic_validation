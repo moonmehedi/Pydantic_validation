{
 "cells": [
  {
   "cell_type": "code",
   "execution_count": 28,
   "id": "b57bf292",
   "metadata": {},
   "outputs": [],
   "source": [
    "from pydantic import BaseModel,EmailStr,AnyUrl,Field,field_validator,model_validator\n",
    "from typing import Optional,Annotated,List,Dict"
   ]
  },
  {
   "cell_type": "code",
   "execution_count": null,
   "id": "cbebe18b",
   "metadata": {},
   "outputs": [],
   "source": [
    "class Patient(BaseModel):\n",
    "    name:str\n",
    "    email:EmailStr\n",
    "    age:int\n",
    "    weight:float\n",
    "    married:bool\n",
    "    allergies:List[str]\n",
    "    contact_details:Dict[str,str] \n",
    "\n",
    "    #checking if valid email\n",
    "\n",
    "    @field_validator('email') #tells this field validator on which field\n",
    "    @classmethod #tells this is a class methid\n",
    "    def email_validator(cls,value):\n",
    "        valid_domain = ['hdfc.com','icici.com']\n",
    "        #abc@gmail.com\n",
    "        domain_name = value.split('@')[-1]\n",
    "\n",
    "        if domain_name not in valid_domain:\n",
    "            raise ValueError('Not a valid domain')\n",
    "        \n",
    "\n",
    "    #transformation\n",
    "    @field_validator('name')\n",
    "    @classmethod\n",
    "    def transform_name(cls,value)->str:\n",
    "        return value.upper()\n",
    "    \n",
    "\n",
    "    # constraint on multiple fields \n",
    "    @model_validator(mode = 'after')\n",
    "    def validate_emergency_contact(cls,model):\n",
    "        if model.age>60 and 'emergency' not in model.contact_details:\n",
    "            raise('patient age above 60 must have energency contact')\n",
    "        return model "
   ]
  },
  {
   "cell_type": "code",
   "execution_count": 30,
   "id": "cc4d4692",
   "metadata": {},
   "outputs": [
    {
     "ename": "TypeError",
     "evalue": "exceptions must derive from BaseException",
     "output_type": "error",
     "traceback": [
      "\u001b[31m---------------------------------------------------------------------------\u001b[39m",
      "\u001b[31mTypeError\u001b[39m                                 Traceback (most recent call last)",
      "\u001b[36mCell\u001b[39m\u001b[36m \u001b[39m\u001b[32mIn[30]\u001b[39m\u001b[32m, line 3\u001b[39m\n\u001b[32m      1\u001b[39m patient_info = {\u001b[33m'\u001b[39m\u001b[33mname\u001b[39m\u001b[33m'\u001b[39m:\u001b[33m'\u001b[39m\u001b[33mnitish\u001b[39m\u001b[33m'\u001b[39m,\u001b[33m'\u001b[39m\u001b[33memail\u001b[39m\u001b[33m'\u001b[39m:\u001b[33m'\u001b[39m\u001b[33mabc@hdfc.com\u001b[39m\u001b[33m'\u001b[39m,\u001b[33m'\u001b[39m\u001b[33mage\u001b[39m\u001b[33m'\u001b[39m:\u001b[32m65\u001b[39m,\u001b[33m'\u001b[39m\u001b[33mweight\u001b[39m\u001b[33m'\u001b[39m:\u001b[32m75.2\u001b[39m,\u001b[33m'\u001b[39m\u001b[33mmarried\u001b[39m\u001b[33m'\u001b[39m:\u001b[38;5;28;01mTrue\u001b[39;00m,\u001b[33m'\u001b[39m\u001b[33mallergies\u001b[39m\u001b[33m'\u001b[39m:[\u001b[33m'\u001b[39m\u001b[33mpollem\u001b[39m\u001b[33m'\u001b[39m,\u001b[33m'\u001b[39m\u001b[33mdust\u001b[39m\u001b[33m'\u001b[39m],\u001b[33m'\u001b[39m\u001b[33mcontact_details\u001b[39m\u001b[33m'\u001b[39m:{\u001b[33m'\u001b[39m\u001b[33mphone\u001b[39m\u001b[33m'\u001b[39m:\u001b[33m'\u001b[39m\u001b[33m2353343\u001b[39m\u001b[33m'\u001b[39m}}\n\u001b[32m----> \u001b[39m\u001b[32m3\u001b[39m patient = \u001b[43mPatient\u001b[49m\u001b[43m(\u001b[49m\u001b[43m*\u001b[49m\u001b[43m*\u001b[49m\u001b[43mpatient_info\u001b[49m\u001b[43m)\u001b[49m \n\u001b[32m      5\u001b[39m \u001b[38;5;28mprint\u001b[39m(patient)\n",
      "    \u001b[31m[... skipping hidden 1 frame]\u001b[39m\n",
      "\u001b[36mCell\u001b[39m\u001b[36m \u001b[39m\u001b[32mIn[29]\u001b[39m\u001b[32m, line 33\u001b[39m, in \u001b[36mPatient.validate_emergency_contact\u001b[39m\u001b[34m(cls, model)\u001b[39m\n\u001b[32m     30\u001b[39m \u001b[38;5;129m@model_validator\u001b[39m(mode = \u001b[33m'\u001b[39m\u001b[33mafter\u001b[39m\u001b[33m'\u001b[39m)\n\u001b[32m     31\u001b[39m \u001b[38;5;28;01mdef\u001b[39;00m\u001b[38;5;250m \u001b[39m\u001b[34mvalidate_emergency_contact\u001b[39m(\u001b[38;5;28mcls\u001b[39m,model):\n\u001b[32m     32\u001b[39m     \u001b[38;5;28;01mif\u001b[39;00m model.age>\u001b[32m60\u001b[39m \u001b[38;5;129;01mand\u001b[39;00m \u001b[33m'\u001b[39m\u001b[33memergency\u001b[39m\u001b[33m'\u001b[39m \u001b[38;5;129;01mnot\u001b[39;00m \u001b[38;5;129;01min\u001b[39;00m model.contact_details:\n\u001b[32m---> \u001b[39m\u001b[32m33\u001b[39m         \u001b[38;5;28;01mraise\u001b[39;00m(\u001b[33m'\u001b[39m\u001b[33mpatient age above 60 must have energency contact\u001b[39m\u001b[33m'\u001b[39m)\n\u001b[32m     34\u001b[39m     \u001b[38;5;28;01mreturn\u001b[39;00m model\n",
      "\u001b[31mTypeError\u001b[39m: exceptions must derive from BaseException"
     ]
    }
   ],
   "source": [
    "patient_info = {'name':'nitish','email':'abc@hdfc.com','age':65,'weight':75.2,'married':True,'allergies':['pollem','dust'],'contact_details':{'phone':'2353343'}}\n",
    "\n",
    "patient = Patient(**patient_info) \n",
    "\n",
    "print(patient)"
   ]
  }
 ],
 "metadata": {
  "kernelspec": {
   "display_name": "venv",
   "language": "python",
   "name": "python3"
  },
  "language_info": {
   "codemirror_mode": {
    "name": "ipython",
    "version": 3
   },
   "file_extension": ".py",
   "mimetype": "text/x-python",
   "name": "python",
   "nbconvert_exporter": "python",
   "pygments_lexer": "ipython3",
   "version": "3.12.3"
  }
 },
 "nbformat": 4,
 "nbformat_minor": 5
}
