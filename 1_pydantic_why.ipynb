{
 "cells": [
  {
   "cell_type": "code",
   "execution_count": null,
   "metadata": {},
   "outputs": [
    {
     "name": "stdout",
     "output_type": "stream",
     "text": [
      "name='akash' age=28 weight=90.0 married=False allergies=None contact_details={'email': 'abc@gmail.com', 'phone': '255432'}\n"
     ]
    }
   ],
   "source": [
    "from pydantic import BaseModel\n",
    "from typing import List,Dict,Optional\n",
    "\n",
    "class Patient(BaseModel):\n",
    "    #type validation\n",
    "    name:str\n",
    "    age:int\n",
    "    weight:float\n",
    "    married:bool = False #married is by default false\n",
    "    allergies:Optional[List[str]] = None #why no list beacuse it will only validate if the field is list or not using List opvalidate every element inside it List shoudl consist string\n",
    "    contact_details:Dict[str,str]\n",
    "\n",
    "#making object\n",
    "\n",
    "patient_info =  {'name':'akash','age':28,'weight':90,'contact_details':{'email':'abc@gmail.com','phone':'255432'}}\n",
    "\n",
    "patient1 = Patient(**patient_info) #every field by default is required else we have to use Optional class\n",
    "# we must give default value to optional field\n",
    "\n",
    "print(patient1)\n"
   ]
  },
  {
   "cell_type": "code",
   "execution_count": 24,
   "id": "fb47b9f8",
   "metadata": {},
   "outputs": [
    {
     "name": "stdout",
     "output_type": "stream",
     "text": [
      "name='akash' age=28 weight=90.0 married=False allergies=None contact_details={'email': 'abc@gmail.com', 'phone': '255432'}\n",
      "data inserted\n"
     ]
    }
   ],
   "source": [
    "def insert_patient_data(patient:Patient):\n",
    "    print(patient)\n",
    "    \n",
    "    print('data inserted')\n",
    "\n",
    "insert_patient_data(patient1)"
   ]
  }
 ],
 "metadata": {
  "kernelspec": {
   "display_name": "venv",
   "language": "python",
   "name": "python3"
  },
  "language_info": {
   "codemirror_mode": {
    "name": "ipython",
    "version": 3
   },
   "file_extension": ".py",
   "mimetype": "text/x-python",
   "name": "python",
   "nbconvert_exporter": "python",
   "pygments_lexer": "ipython3",
   "version": "3.12.3"
  }
 },
 "nbformat": 4,
 "nbformat_minor": 5
}
