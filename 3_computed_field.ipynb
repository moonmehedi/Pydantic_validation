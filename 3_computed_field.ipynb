{
 "cells": [
  {
   "cell_type": "code",
   "execution_count": 6,
   "id": "6acd0afb",
   "metadata": {},
   "outputs": [],
   "source": [
    "from pydantic import BaseModel,EmailStr,AnyUrl,Field,field_validator,model_validator\n",
    "from typing import Optional,Annotated,List,Dict"
   ]
  },
  {
   "cell_type": "code",
   "execution_count": 7,
   "id": "83a8230b",
   "metadata": {},
   "outputs": [],
   "source": [
    "from pydantic import computed_field\n",
    "\n",
    "\n",
    "class Patient(BaseModel):\n",
    "    name:str\n",
    "    email:EmailStr\n",
    "    age:int\n",
    "    weight:float\n",
    "    height:float\n",
    "    married:bool\n",
    "    allergies:List[str]\n",
    "    contact_details:Dict[str,str] \n",
    "\n",
    "    #object or instance as input\n",
    "    @computed_field\n",
    "    @property\n",
    "    def bmi(self) -> float:\n",
    "        bmi = round( self.weight / ( self.height**2 ) , 2 )\n",
    "        return bmi \n"
   ]
  },
  {
   "cell_type": "code",
   "execution_count": 8,
   "id": "8b40a7c1",
   "metadata": {},
   "outputs": [
    {
     "data": {
      "text/plain": [
       "Patient(name='nitish', email='abc@hdfc.com', age=65, weight=75.2, height=1.72, married=True, allergies=['pollem', 'dust'], contact_details={'phone': '2353343'}, bmi=25.42)"
      ]
     },
     "execution_count": 8,
     "metadata": {},
     "output_type": "execute_result"
    }
   ],
   "source": [
    "patient_info = {'name':'nitish','email':'abc@hdfc.com','age':65,'weight':75.2,'married':True,'allergies':['pollem','dust'],'contact_details':{'phone':'2353343'},'height':1.72}\n",
    "\n",
    "patient = Patient(**patient_info) \n",
    "\n",
    "patient"
   ]
  }
 ],
 "metadata": {
  "kernelspec": {
   "display_name": "venv",
   "language": "python",
   "name": "python3"
  },
  "language_info": {
   "codemirror_mode": {
    "name": "ipython",
    "version": 3
   },
   "file_extension": ".py",
   "mimetype": "text/x-python",
   "name": "python",
   "nbconvert_exporter": "python",
   "pygments_lexer": "ipython3",
   "version": "3.12.3"
  }
 },
 "nbformat": 4,
 "nbformat_minor": 5
}
